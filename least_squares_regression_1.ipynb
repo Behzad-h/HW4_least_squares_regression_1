{
 "cells": [
  {
   "cell_type": "markdown",
   "metadata": {},
   "source": [
    "# HW4_least_squares_regression_1"
   ]
  },
  {
   "cell_type": "code",
   "execution_count": 1,
   "metadata": {},
   "outputs": [],
   "source": [
    "import pandas as pd\n",
    "import numpy as np\n",
    "import matplotlib.pyplot as plt\n",
    "import statsmodels.api as sm\n",
    "import yfinance as yf\n",
    "import datetime as dt\n",
    "\n",
    "np.random.seed(10)"
   ]
  },
  {
   "cell_type": "markdown",
   "metadata": {},
   "source": [
    "## 1) Ordinary Least Squares (OLS)\n",
    "### Extracting The Dataset\n",
    "We extract the historical data for Microsoft stock price."
   ]
  },
  {
   "cell_type": "code",
   "execution_count": 2,
   "metadata": {},
   "outputs": [
    {
     "name": "stdout",
     "output_type": "stream",
     "text": [
      "[*********************100%***********************]  1 of 1 completed\n"
     ]
    }
   ],
   "source": [
    "Ticker = 'MSFT'\n",
    "Interval = '1d'\n",
    "Start = dt.datetime(2021, 1, 1)\n",
    "End = dt.datetime(2022, 1, 1)\n",
    "\n",
    "data_full = yf.download(tickers=Ticker, interval=Interval, start=Start, end=End)"
   ]
  },
  {
   "cell_type": "markdown",
   "metadata": {},
   "source": [
    "Looking at the data:"
   ]
  },
  {
   "cell_type": "code",
   "execution_count": 3,
   "metadata": {},
   "outputs": [
    {
     "data": {
      "text/html": [
       "<div>\n",
       "<style scoped>\n",
       "    .dataframe tbody tr th:only-of-type {\n",
       "        vertical-align: middle;\n",
       "    }\n",
       "\n",
       "    .dataframe tbody tr th {\n",
       "        vertical-align: top;\n",
       "    }\n",
       "\n",
       "    .dataframe thead th {\n",
       "        text-align: right;\n",
       "    }\n",
       "</style>\n",
       "<table border=\"1\" class=\"dataframe\">\n",
       "  <thead>\n",
       "    <tr style=\"text-align: right;\">\n",
       "      <th></th>\n",
       "      <th>Open</th>\n",
       "      <th>High</th>\n",
       "      <th>Low</th>\n",
       "      <th>Close</th>\n",
       "      <th>Adj Close</th>\n",
       "      <th>Volume</th>\n",
       "    </tr>\n",
       "    <tr>\n",
       "      <th>Date</th>\n",
       "      <th></th>\n",
       "      <th></th>\n",
       "      <th></th>\n",
       "      <th></th>\n",
       "      <th></th>\n",
       "      <th></th>\n",
       "    </tr>\n",
       "  </thead>\n",
       "  <tbody>\n",
       "    <tr>\n",
       "      <th>2021-01-04</th>\n",
       "      <td>222.529999</td>\n",
       "      <td>223.000000</td>\n",
       "      <td>214.809998</td>\n",
       "      <td>217.690002</td>\n",
       "      <td>214.479111</td>\n",
       "      <td>37130100</td>\n",
       "    </tr>\n",
       "    <tr>\n",
       "      <th>2021-01-05</th>\n",
       "      <td>217.259995</td>\n",
       "      <td>218.520004</td>\n",
       "      <td>215.699997</td>\n",
       "      <td>217.899994</td>\n",
       "      <td>214.686020</td>\n",
       "      <td>23823000</td>\n",
       "    </tr>\n",
       "    <tr>\n",
       "      <th>2021-01-06</th>\n",
       "      <td>212.169998</td>\n",
       "      <td>216.490005</td>\n",
       "      <td>211.940002</td>\n",
       "      <td>212.250000</td>\n",
       "      <td>209.119354</td>\n",
       "      <td>35930700</td>\n",
       "    </tr>\n",
       "    <tr>\n",
       "      <th>2021-01-07</th>\n",
       "      <td>214.039993</td>\n",
       "      <td>219.339996</td>\n",
       "      <td>213.710007</td>\n",
       "      <td>218.289993</td>\n",
       "      <td>215.070267</td>\n",
       "      <td>27694500</td>\n",
       "    </tr>\n",
       "    <tr>\n",
       "      <th>2021-01-08</th>\n",
       "      <td>218.679993</td>\n",
       "      <td>220.580002</td>\n",
       "      <td>217.029999</td>\n",
       "      <td>219.619995</td>\n",
       "      <td>216.380630</td>\n",
       "      <td>22956200</td>\n",
       "    </tr>\n",
       "  </tbody>\n",
       "</table>\n",
       "</div>"
      ],
      "text/plain": [
       "                  Open        High         Low       Close   Adj Close  \\\n",
       "Date                                                                     \n",
       "2021-01-04  222.529999  223.000000  214.809998  217.690002  214.479111   \n",
       "2021-01-05  217.259995  218.520004  215.699997  217.899994  214.686020   \n",
       "2021-01-06  212.169998  216.490005  211.940002  212.250000  209.119354   \n",
       "2021-01-07  214.039993  219.339996  213.710007  218.289993  215.070267   \n",
       "2021-01-08  218.679993  220.580002  217.029999  219.619995  216.380630   \n",
       "\n",
       "              Volume  \n",
       "Date                  \n",
       "2021-01-04  37130100  \n",
       "2021-01-05  23823000  \n",
       "2021-01-06  35930700  \n",
       "2021-01-07  27694500  \n",
       "2021-01-08  22956200  "
      ]
     },
     "execution_count": 3,
     "metadata": {},
     "output_type": "execute_result"
    }
   ],
   "source": [
    "data_full.head(5) "
   ]
  },
  {
   "cell_type": "code",
   "execution_count": 4,
   "metadata": {},
   "outputs": [
    {
     "data": {
      "image/png": "[encoded data removed]",
      "text/plain": [
       "<Figure size 936x216 with 1 Axes>"
      ]
     },
     "metadata": {
      "needs_background": "light"
     },
     "output_type": "display_data"
    }
   ],
   "source": [
    "# plotting the Close price\n",
    "plt.figure(figsize=(13,3))\n",
    "plt.plot(data_full.Close)\n",
    "plt.ylabel('Microsoft Stock Price ($)')\n",
    "plt.show()"
   ]
  },
  {
   "cell_type": "markdown",
   "metadata": {},
   "source": [
    "### OLS Linear\n",
    "We use the 'Close' price for modeling:"
   ]
  },
  {
   "cell_type": "code",
   "execution_count": 5,
   "metadata": {},
   "outputs": [
    {
     "data": {
      "text/html": [
       "<div>\n",
       "<style scoped>\n",
       "    .dataframe tbody tr th:only-of-type {\n",
       "        vertical-align: middle;\n",
       "    }\n",
       "\n",
       "    .dataframe tbody tr th {\n",
       "        vertical-align: top;\n",
       "    }\n",
       "\n",
       "    .dataframe thead th {\n",
       "        text-align: right;\n",
       "    }\n",
       "</style>\n",
       "<table border=\"1\" class=\"dataframe\">\n",
       "  <thead>\n",
       "    <tr style=\"text-align: right;\">\n",
       "      <th></th>\n",
       "      <th>Date</th>\n",
       "      <th>Close</th>\n",
       "    </tr>\n",
       "  </thead>\n",
       "  <tbody>\n",
       "    <tr>\n",
       "      <th>0</th>\n",
       "      <td>2021-07-01</td>\n",
       "      <td>271.600006</td>\n",
       "    </tr>\n",
       "    <tr>\n",
       "      <th>1</th>\n",
       "      <td>2021-07-02</td>\n",
       "      <td>277.649994</td>\n",
       "    </tr>\n",
       "    <tr>\n",
       "      <th>2</th>\n",
       "      <td>2021-07-06</td>\n",
       "      <td>277.660004</td>\n",
       "    </tr>\n",
       "  </tbody>\n",
       "</table>\n",
       "</div>"
      ],
      "text/plain": [
       "        Date       Close\n",
       "0 2021-07-01  271.600006\n",
       "1 2021-07-02  277.649994\n",
       "2 2021-07-06  277.660004"
      ]
     },
     "execution_count": 5,
     "metadata": {},
     "output_type": "execute_result"
    }
   ],
   "source": [
    "data = pd.DataFrame(data_full['Close']['2021-07-01':'2021-10-01']).reset_index()\n",
    "data.head(3)"
   ]
  },
  {
   "cell_type": "code",
   "execution_count": 6,
   "metadata": {},
   "outputs": [
    {
     "data": {
      "image/png": "[encoded data removed]",
      "text/plain": [
       "<Figure size 936x216 with 1 Axes>"
      ]
     },
     "metadata": {
      "needs_background": "light"
     },
     "output_type": "display_data"
    }
   ],
   "source": [
    "# plotting the Close price\n",
    "plt.figure(figsize=(13,3))\n",
    "plt.scatter(data.Date, data.Close, marker='.')\n",
    "plt.ylabel('Microsoft Stock Price ($)')\n",
    "plt.show()"
   ]
  },
  {
   "cell_type": "markdown",
   "metadata": {},
   "source": [
    "Considering the index number as the feature (x axis), we fit an ordinary (linear) least square model on the data: "
   ]
  },
  {
   "cell_type": "code",
   "execution_count": 7,
   "metadata": {},
   "outputs": [
    {
     "data": {
      "text/plain": [
       "array([[1., 0.],\n",
       "       [1., 1.],\n",
       "       [1., 2.],\n",
       "       [1., 3.],\n",
       "       [1., 4.]])"
      ]
     },
     "execution_count": 7,
     "metadata": {},
     "output_type": "execute_result"
    }
   ],
   "source": [
    "Y = data.Close\n",
    "X = data.index.values\n",
    "X = sm.add_constant(X) # the model needs an intercept. So, we add a column of 1s. (Y = AX where A=[a, b], X=[[x],[1]])\n",
    "X[:5]"
   ]
  },
  {
   "cell_type": "code",
   "execution_count": 8,
   "metadata": {},
   "outputs": [
    {
     "name": "stdout",
     "output_type": "stream",
     "text": [
      "                            OLS Regression Results                            \n",
      "==============================================================================\n",
      "Dep. Variable:                  Close   R-squared:                       0.502\n",
      "Model:                            OLS   Adj. R-squared:                  0.494\n",
      "Method:                 Least Squares   F-statistic:                     63.42\n",
      "Date:                Thu, 18 Aug 2022   Prob (F-statistic):           4.13e-11\n",
      "Time:                        01:47:32   Log-Likelihood:                -211.44\n",
      "No. Observations:                  65   AIC:                             426.9\n",
      "Df Residuals:                      63   BIC:                             431.2\n",
      "Df Model:                           1                                         \n",
      "Covariance Type:            nonrobust                                         \n",
      "==============================================================================\n",
      "                 coef    std err          t      P>|t|      [0.025      0.975]\n",
      "------------------------------------------------------------------------------\n",
      "const        280.2109      1.559    179.723      0.000     277.095     283.327\n",
      "x1             0.3347      0.042      7.964      0.000       0.251       0.419\n",
      "==============================================================================\n",
      "Omnibus:                       10.154   Durbin-Watson:                   0.245\n",
      "Prob(Omnibus):                  0.006   Jarque-Bera (JB):               10.966\n",
      "Skew:                          -0.725   Prob(JB):                      0.00416\n",
      "Kurtosis:                       4.395   Cond. No.                         73.4\n",
      "==============================================================================\n",
      "\n",
      "Notes:\n",
      "[1] Standard Errors assume that the covariance matrix of the errors is correctly specified.\n"
     ]
    }
   ],
   "source": [
    "model1 = sm.OLS(Y, X).fit()\n",
    "print(model1.summary())"
   ]
  },
  {
   "cell_type": "markdown",
   "metadata": {},
   "source": [
    "Plot the real data versus the predictions of the linear model:"
   ]
  },
  {
   "cell_type": "code",
   "execution_count": 9,
   "metadata": {},
   "outputs": [
    {
     "data": {
      "image/png": "[encoded data removed]",
      "text/plain": [
       "<Figure size 936x216 with 1 Axes>"
      ]
     },
     "metadata": {
      "needs_background": "light"
     },
     "output_type": "display_data"
    }
   ],
   "source": [
    "plt.figure(figsize=(13,3))\n",
    "plt.scatter(data.index, data.Close, marker='.', label='Actual Data')\n",
    "plt.plot(model1.predict(), color='r', label='OLS Predictions')\n",
    "plt.ylabel('Microsoft Stock Price ($)')\n",
    "plt.legend()\n",
    "plt.show()"
   ]
  },
  {
   "cell_type": "markdown",
   "metadata": {},
   "source": [
    "As can be seen, a line cannot be a good representation of the data. So, we try again using a polynomial model as follwos:"
   ]
  },
  {
   "cell_type": "code",
   "execution_count": 10,
   "metadata": {},
   "outputs": [
    {
     "data": {
      "text/plain": [
       "array([[ 1.,  0.,  0.,  0.],\n",
       "       [ 1.,  1.,  1.,  1.],\n",
       "       [ 1.,  2.,  4.,  8.],\n",
       "       [ 1.,  3.,  9., 27.],\n",
       "       [ 1.,  4., 16., 64.]])"
      ]
     },
     "execution_count": 10,
     "metadata": {},
     "output_type": "execute_result"
    }
   ],
   "source": [
    "Y = data.Close\n",
    "X = data.index.values\n",
    "X = np.column_stack((X, X**2, X**3)) # adding x^2 and x^3\n",
    "X = sm.add_constant(X) # the model needs an intercept. So, we add a column of 1s. (Y = AX where A=[a, b, c, d], X=[[x^3],[x^2],[x],[1]])\n",
    "X[:5]"
   ]
  },
  {
   "cell_type": "code",
   "execution_count": 11,
   "metadata": {},
   "outputs": [
    {
     "name": "stdout",
     "output_type": "stream",
     "text": [
      "                            OLS Regression Results                            \n",
      "==============================================================================\n",
      "Dep. Variable:                  Close   R-squared:                       0.848\n",
      "Model:                            OLS   Adj. R-squared:                  0.841\n",
      "Method:                 Least Squares   F-statistic:                     113.7\n",
      "Date:                Thu, 18 Aug 2022   Prob (F-statistic):           6.09e-25\n",
      "Time:                        01:47:33   Log-Likelihood:                -172.79\n",
      "No. Observations:                  65   AIC:                             353.6\n",
      "Df Residuals:                      61   BIC:                             362.3\n",
      "Df Model:                           3                                         \n",
      "Covariance Type:            nonrobust                                         \n",
      "==============================================================================\n",
      "                 coef    std err          t      P>|t|      [0.025      0.975]\n",
      "------------------------------------------------------------------------------\n",
      "const        277.9075      1.671    166.286      0.000     274.566     281.249\n",
      "x1            -0.1426      0.228     -0.626      0.534      -0.598       0.313\n",
      "x2             0.0398      0.008      4.785      0.000       0.023       0.056\n",
      "x3            -0.0006   8.53e-05     -6.541      0.000      -0.001      -0.000\n",
      "==============================================================================\n",
      "Omnibus:                        1.085   Durbin-Watson:                   0.787\n",
      "Prob(Omnibus):                  0.581   Jarque-Bera (JB):                0.984\n",
      "Skew:                           0.092   Prob(JB):                        0.611\n",
      "Kurtosis:                       2.426   Cond. No.                     3.84e+05\n",
      "==============================================================================\n",
      "\n",
      "Notes:\n",
      "[1] Standard Errors assume that the covariance matrix of the errors is correctly specified.\n",
      "[2] The condition number is large, 3.84e+05. This might indicate that there are\n",
      "strong multicollinearity or other numerical problems.\n"
     ]
    }
   ],
   "source": [
    "model2 = sm.OLS(Y, X).fit()\n",
    "print(model2.summary())"
   ]
  },
  {
   "cell_type": "markdown",
   "metadata": {},
   "source": [
    "We plot the actual data versus the new predictions:"
   ]
  },
  {
   "cell_type": "code",
   "execution_count": 12,
   "metadata": {},
   "outputs": [
    {
     "data": {
      "image/png": "[encoded data removed]",
      "text/plain": [
       "<Figure size 936x216 with 1 Axes>"
      ]
     },
     "metadata": {
      "needs_background": "light"
     },
     "output_type": "display_data"
    }
   ],
   "source": [
    "plt.figure(figsize=(13,3))\n",
    "plt.scatter(data.index, data.Close, marker='.', label='Actual Data')\n",
    "plt.plot(model2.predict(), color='r', label='OLS Predictions')\n",
    "plt.ylabel('Microsoft Stock Price ($)')\n",
    "plt.legend()\n",
    "plt.show()"
   ]
  },
  {
   "cell_type": "markdown",
   "metadata": {},
   "source": [
    "As can be seen, the new curve is a better fit for the data. So, we extract the important information about the model:"
   ]
  },
  {
   "cell_type": "code",
   "execution_count": 13,
   "metadata": {},
   "outputs": [
    {
     "name": "stdout",
     "output_type": "stream",
     "text": [
      "Parameters of the model are (d, c, b, and a for ax^3 + bx^2 + cx + d):\n",
      " const    277.907453\n",
      "x1        -0.142578\n",
      "x2         0.039772\n",
      "x3        -0.000558\n",
      "dtype: float64\n"
     ]
    }
   ],
   "source": [
    "print('Parameters of the model are (d, c, b, and a for ax^3 + bx^2 + cx + d):\\n', model2.params)"
   ]
  },
  {
   "cell_type": "markdown",
   "metadata": {},
   "source": [
    "### OLS non-linear curve but linear in parameters\n",
    "Here, we consider a part of the data with nonlinear relationship between X and Y:"
   ]
  },
  {
   "cell_type": "code",
   "execution_count": 14,
   "metadata": {},
   "outputs": [
    {
     "data": {
      "text/html": [
       "<div>\n",
       "<style scoped>\n",
       "    .dataframe tbody tr th:only-of-type {\n",
       "        vertical-align: middle;\n",
       "    }\n",
       "\n",
       "    .dataframe tbody tr th {\n",
       "        vertical-align: top;\n",
       "    }\n",
       "\n",
       "    .dataframe thead th {\n",
       "        text-align: right;\n",
       "    }\n",
       "</style>\n",
       "<table border=\"1\" class=\"dataframe\">\n",
       "  <thead>\n",
       "    <tr style=\"text-align: right;\">\n",
       "      <th></th>\n",
       "      <th>Date</th>\n",
       "      <th>Close</th>\n",
       "    </tr>\n",
       "  </thead>\n",
       "  <tbody>\n",
       "    <tr>\n",
       "      <th>0</th>\n",
       "      <td>2021-01-04</td>\n",
       "      <td>217.690002</td>\n",
       "    </tr>\n",
       "    <tr>\n",
       "      <th>1</th>\n",
       "      <td>2021-01-05</td>\n",
       "      <td>217.899994</td>\n",
       "    </tr>\n",
       "    <tr>\n",
       "      <th>2</th>\n",
       "      <td>2021-01-06</td>\n",
       "      <td>212.250000</td>\n",
       "    </tr>\n",
       "  </tbody>\n",
       "</table>\n",
       "</div>"
      ],
      "text/plain": [
       "        Date       Close\n",
       "0 2021-01-04  217.690002\n",
       "1 2021-01-05  217.899994\n",
       "2 2021-01-06  212.250000"
      ]
     },
     "execution_count": 14,
     "metadata": {},
     "output_type": "execute_result"
    }
   ],
   "source": [
    "data = pd.DataFrame(data_full['Close'][:'2021-6-01']).reset_index()\n",
    "data.head(3)"
   ]
  },
  {
   "cell_type": "code",
   "execution_count": 15,
   "metadata": {},
   "outputs": [
    {
     "data": {
      "image/png": "[encoded data removed]",
      "text/plain": [
       "<Figure size 936x216 with 1 Axes>"
      ]
     },
     "metadata": {
      "needs_background": "light"
     },
     "output_type": "display_data"
    }
   ],
   "source": [
    "# plotting the Close price\n",
    "plt.figure(figsize=(13,3))\n",
    "plt.scatter(data.Date, data.Close, marker='.')\n",
    "plt.ylabel('Microsoft Stock Price ($)')\n",
    "plt.show()"
   ]
  },
  {
   "cell_type": "markdown",
   "metadata": {},
   "source": [
    "We consider some nonlinear features as follows:"
   ]
  },
  {
   "cell_type": "code",
   "execution_count": 16,
   "metadata": {},
   "outputs": [
    {
     "data": {
      "text/plain": [
       "array([[ 0.        ,  0.        , 25.        ,  1.        ],\n",
       "       [ 1.        ,  0.09983342, 16.        ,  1.        ],\n",
       "       [ 2.        ,  0.19866933,  9.        ,  1.        ],\n",
       "       [ 3.        ,  0.29552021,  4.        ,  1.        ],\n",
       "       [ 4.        ,  0.38941834,  1.        ,  1.        ]])"
      ]
     },
     "execution_count": 16,
     "metadata": {},
     "output_type": "execute_result"
    }
   ],
   "source": [
    "Y = data.Close\n",
    "X = data.index.values\n",
    "X = np.column_stack((X, np.sin(X/10), (X-5)**2, np.ones(len(X)))) # adding sin(x), (x-5)^2, and 1s for the intercept\n",
    "X[:5]"
   ]
  },
  {
   "cell_type": "code",
   "execution_count": 17,
   "metadata": {},
   "outputs": [
    {
     "name": "stdout",
     "output_type": "stream",
     "text": [
      "                            OLS Regression Results                            \n",
      "==============================================================================\n",
      "Dep. Variable:                  Close   R-squared:                       0.789\n",
      "Model:                            OLS   Adj. R-squared:                  0.782\n",
      "Method:                 Least Squares   F-statistic:                     123.1\n",
      "Date:                Thu, 18 Aug 2022   Prob (F-statistic):           2.75e-33\n",
      "Time:                        01:47:34   Log-Likelihood:                -325.78\n",
      "No. Observations:                 103   AIC:                             659.6\n",
      "Df Residuals:                      99   BIC:                             670.1\n",
      "Df Model:                           3                                         \n",
      "Covariance Type:            nonrobust                                         \n",
      "==============================================================================\n",
      "                 coef    std err          t      P>|t|      [0.025      0.975]\n",
      "------------------------------------------------------------------------------\n",
      "x1             0.8865      0.074     11.907      0.000       0.739       1.034\n",
      "x2             8.3716      0.920      9.104      0.000       6.547      10.196\n",
      "x3            -0.0060      0.001     -7.771      0.000      -0.008      -0.004\n",
      "const        211.3923      1.823    115.976      0.000     207.776     215.009\n",
      "==============================================================================\n",
      "Omnibus:                        8.568   Durbin-Watson:                   0.360\n",
      "Prob(Omnibus):                  0.014   Jarque-Bera (JB):                3.948\n",
      "Skew:                          -0.220   Prob(JB):                        0.139\n",
      "Kurtosis:                       2.148   Cond. No.                     1.34e+04\n",
      "==============================================================================\n",
      "\n",
      "Notes:\n",
      "[1] Standard Errors assume that the covariance matrix of the errors is correctly specified.\n",
      "[2] The condition number is large, 1.34e+04. This might indicate that there are\n",
      "strong multicollinearity or other numerical problems.\n"
     ]
    }
   ],
   "source": [
    "model3 = sm.OLS(Y, X).fit()\n",
    "print(model3.summary())"
   ]
  },
  {
   "cell_type": "markdown",
   "metadata": {},
   "source": [
    "We plot the actual data and the OLS predictions together with the prediction intervals (the confidence intervals around the predictions) (based on wls_prediction_std) as follows:"
   ]
  },
  {
   "cell_type": "code",
   "execution_count": 18,
   "metadata": {},
   "outputs": [
    {
     "data": {
      "text/html": [
       "<div>\n",
       "<style scoped>\n",
       "    .dataframe tbody tr th:only-of-type {\n",
       "        vertical-align: middle;\n",
       "    }\n",
       "\n",
       "    .dataframe tbody tr th {\n",
       "        vertical-align: top;\n",
       "    }\n",
       "\n",
       "    .dataframe thead th {\n",
       "        text-align: right;\n",
       "    }\n",
       "</style>\n",
       "<table border=\"1\" class=\"dataframe\">\n",
       "  <thead>\n",
       "    <tr style=\"text-align: right;\">\n",
       "      <th></th>\n",
       "      <th>mean</th>\n",
       "      <th>mean_se</th>\n",
       "      <th>mean_ci_lower</th>\n",
       "      <th>mean_ci_upper</th>\n",
       "      <th>obs_ci_lower</th>\n",
       "      <th>obs_ci_upper</th>\n",
       "    </tr>\n",
       "  </thead>\n",
       "  <tbody>\n",
       "    <tr>\n",
       "      <th>0</th>\n",
       "      <td>211.242209</td>\n",
       "      <td>1.837575</td>\n",
       "      <td>207.596062</td>\n",
       "      <td>214.888356</td>\n",
       "      <td>199.104331</td>\n",
       "      <td>223.380087</td>\n",
       "    </tr>\n",
       "    <tr>\n",
       "      <th>1</th>\n",
       "      <td>213.018521</td>\n",
       "      <td>1.732789</td>\n",
       "      <td>209.580291</td>\n",
       "      <td>216.456751</td>\n",
       "      <td>200.941472</td>\n",
       "      <td>225.095570</td>\n",
       "    </tr>\n",
       "    <tr>\n",
       "      <th>2</th>\n",
       "      <td>214.774476</td>\n",
       "      <td>1.635110</td>\n",
       "      <td>211.530064</td>\n",
       "      <td>218.018888</td>\n",
       "      <td>202.751169</td>\n",
       "      <td>226.797782</td>\n",
       "    </tr>\n",
       "    <tr>\n",
       "      <th>3</th>\n",
       "      <td>216.501807</td>\n",
       "      <td>1.545559</td>\n",
       "      <td>213.435083</td>\n",
       "      <td>219.568531</td>\n",
       "      <td>204.525226</td>\n",
       "      <td>228.478388</td>\n",
       "    </tr>\n",
       "  </tbody>\n",
       "</table>\n",
       "</div>"
      ],
      "text/plain": [
       "         mean   mean_se  mean_ci_lower  mean_ci_upper  obs_ci_lower  \\\n",
       "0  211.242209  1.837575     207.596062     214.888356    199.104331   \n",
       "1  213.018521  1.732789     209.580291     216.456751    200.941472   \n",
       "2  214.774476  1.635110     211.530064     218.018888    202.751169   \n",
       "3  216.501807  1.545559     213.435083     219.568531    204.525226   \n",
       "\n",
       "   obs_ci_upper  \n",
       "0    223.380087  \n",
       "1    225.095570  \n",
       "2    226.797782  \n",
       "3    228.478388  "
      ]
     },
     "execution_count": 18,
     "metadata": {},
     "output_type": "execute_result"
    }
   ],
   "source": [
    "model3.get_prediction().summary_frame().head(4)"
   ]
  },
  {
   "cell_type": "markdown",
   "metadata": {},
   "source": [
    "In the above dataframe: \n",
    "- 'mean' is the same as the predictions by the model. \n",
    "- 'mean_ci_lower' and 'mean_ci_upper' are the confidence interval boundaries.\n",
    "- 'obs_ci_lower' & 'obs_ci_upper' are the prediction interval boundaries."
   ]
  },
  {
   "cell_type": "markdown",
   "metadata": {},
   "source": [
    "The prediction interval predicts in what range a future individual observation will fall, while a confidence interval shows the likely range of values associated with some statistical parameter of the data, such as the population mean. **\n",
    "\n",
    "Confidence intervals are for mean predictions. Unlike prediction interval, confidence interval doesn’t tell us a range of target values an observation can take. Instead, it tells us a range of target mean values. Here’s an example interpretation: There is 90% probability that mean target value for records with feature values same as record 287 will fall somewhere between 140.9452 and 151.3897.\n",
    "While both intervals are centred around the prediction, the standard errors for prediction intervals is bigger than the one for confidence intervals. As a result, prediction intervals are wider than confidence intervals. ***\n",
    "\n",
    "** https://towardsdatascience.com/how-confidence-and-prediction-intervals-work-4592019576d8#:~:text=The%20prediction%20interval%20predicts%20in,such%20as%20the%20population%20mean.\n",
    "\n",
    "*** https://towardsdatascience.com/prediction-intervals-in-python-64b992317b1a"
   ]
  },
  {
   "cell_type": "code",
   "execution_count": 19,
   "metadata": {},
   "outputs": [
    {
     "data": {
      "image/png": "[encoded data removed]",
      "text/plain": [
       "<Figure size 936x288 with 1 Axes>"
      ]
     },
     "metadata": {
      "needs_background": "light"
     },
     "output_type": "display_data"
    }
   ],
   "source": [
    "CL_low = model3.get_prediction().summary_frame()['obs_ci_lower'] \n",
    "CL_up = model3.get_prediction().summary_frame()['obs_ci_upper'] \n",
    "\n",
    "plt.figure(figsize=(13,4))\n",
    "plt.plot(data.Close, 'o', label='Actual Data')\n",
    "plt.plot(model3.predict(), '-', color='r', label='OLS Predictions')\n",
    "plt.plot(CL_low, '--', color='orange', label='Prediction Intervals')\n",
    "plt.plot(CL_up, '--', color='orange')\n",
    "plt.ylabel('Microsoft Stock Price ($)')\n",
    "plt.legend()\n",
    "plt.show()"
   ]
  },
  {
   "cell_type": "markdown",
   "metadata": {},
   "source": [
    "We also take a look at the confidence intervals boundaries as follows:"
   ]
  },
  {
   "cell_type": "code",
   "execution_count": 20,
   "metadata": {},
   "outputs": [
    {
     "data": {
      "image/png": "[encoded data removed]",
      "text/plain": [
       "<Figure size 936x288 with 1 Axes>"
      ]
     },
     "metadata": {
      "needs_background": "light"
     },
     "output_type": "display_data"
    }
   ],
   "source": [
    "CL_low = model3.get_prediction().summary_frame()['mean_ci_lower'] \n",
    "CL_up = model3.get_prediction().summary_frame()['mean_ci_upper'] \n",
    "\n",
    "plt.figure(figsize=(13,4))\n",
    "plt.plot(data.Close, 'o', label='Actual Data')\n",
    "plt.plot(model3.predict(), '-', color='r', label='OLS Predictions')\n",
    "plt.plot(CL_low, '--', color='green', label='Confidence Intervals')\n",
    "plt.plot(CL_up, '--', color='green')\n",
    "plt.ylabel('Microsoft Stock Price ($)')\n",
    "plt.legend()\n",
    "plt.show()"
   ]
  },
  {
   "cell_type": "markdown",
   "metadata": {},
   "source": [
    "## 2) Generalized Least Squares (GLS)"
   ]
  },
  {
   "cell_type": "markdown",
   "metadata": {},
   "source": [
    "We use the Longley dataset which is a time series data.\n",
    "\n",
    "The Longley dataset contains various US macroeconomic variables that are known to be highly collinear. It has been used to appraise the accuracy of least squares routines.\n",
    "\n",
    "Number of Observations - 16\n",
    "Number of Variables - 6\n",
    "Variable name definitions::\n",
    "\n",
    "- TOTEMP - Total Employment\n",
    "- GNPDEFL - GNP deflator\n",
    "- GNP - GNP\n",
    "- UNEMP - Number of unemployed\n",
    "- ARMED - Size of armed forces\n",
    "- POP - Population\n",
    "- YEAR - Year (1947 - 1962)\n",
    "\n",
    "https://www.statsmodels.org/dev/datasets/generated/longley.html#:~:text=The%20Longley%20dataset%20contains%20various,accuracy%20of%20least%20squares%20routines."
   ]
  },
  {
   "cell_type": "code",
   "execution_count": 21,
   "metadata": {},
   "outputs": [
    {
     "data": {
      "text/html": [
       "<div>\n",
       "<style scoped>\n",
       "    .dataframe tbody tr th:only-of-type {\n",
       "        vertical-align: middle;\n",
       "    }\n",
       "\n",
       "    .dataframe tbody tr th {\n",
       "        vertical-align: top;\n",
       "    }\n",
       "\n",
       "    .dataframe thead th {\n",
       "        text-align: right;\n",
       "    }\n",
       "</style>\n",
       "<table border=\"1\" class=\"dataframe\">\n",
       "  <thead>\n",
       "    <tr style=\"text-align: right;\">\n",
       "      <th></th>\n",
       "      <th>GNPDEFL</th>\n",
       "      <th>GNP</th>\n",
       "      <th>UNEMP</th>\n",
       "      <th>ARMED</th>\n",
       "      <th>POP</th>\n",
       "      <th>YEAR</th>\n",
       "    </tr>\n",
       "  </thead>\n",
       "  <tbody>\n",
       "    <tr>\n",
       "      <th>0</th>\n",
       "      <td>83.0</td>\n",
       "      <td>234289.0</td>\n",
       "      <td>2356.0</td>\n",
       "      <td>1590.0</td>\n",
       "      <td>107608.0</td>\n",
       "      <td>1947.0</td>\n",
       "    </tr>\n",
       "    <tr>\n",
       "      <th>1</th>\n",
       "      <td>88.5</td>\n",
       "      <td>259426.0</td>\n",
       "      <td>2325.0</td>\n",
       "      <td>1456.0</td>\n",
       "      <td>108632.0</td>\n",
       "      <td>1948.0</td>\n",
       "    </tr>\n",
       "    <tr>\n",
       "      <th>2</th>\n",
       "      <td>88.2</td>\n",
       "      <td>258054.0</td>\n",
       "      <td>3682.0</td>\n",
       "      <td>1616.0</td>\n",
       "      <td>109773.0</td>\n",
       "      <td>1949.0</td>\n",
       "    </tr>\n",
       "    <tr>\n",
       "      <th>3</th>\n",
       "      <td>89.5</td>\n",
       "      <td>284599.0</td>\n",
       "      <td>3351.0</td>\n",
       "      <td>1650.0</td>\n",
       "      <td>110929.0</td>\n",
       "      <td>1950.0</td>\n",
       "    </tr>\n",
       "    <tr>\n",
       "      <th>4</th>\n",
       "      <td>96.2</td>\n",
       "      <td>328975.0</td>\n",
       "      <td>2099.0</td>\n",
       "      <td>3099.0</td>\n",
       "      <td>112075.0</td>\n",
       "      <td>1951.0</td>\n",
       "    </tr>\n",
       "  </tbody>\n",
       "</table>\n",
       "</div>"
      ],
      "text/plain": [
       "   GNPDEFL       GNP   UNEMP   ARMED       POP    YEAR\n",
       "0     83.0  234289.0  2356.0  1590.0  107608.0  1947.0\n",
       "1     88.5  259426.0  2325.0  1456.0  108632.0  1948.0\n",
       "2     88.2  258054.0  3682.0  1616.0  109773.0  1949.0\n",
       "3     89.5  284599.0  3351.0  1650.0  110929.0  1950.0\n",
       "4     96.2  328975.0  2099.0  3099.0  112075.0  1951.0"
      ]
     },
     "execution_count": 21,
     "metadata": {},
     "output_type": "execute_result"
    }
   ],
   "source": [
    "data = sm.datasets.longley.load()\n",
    "data.exog.head(5) # statsmodels is using 'endog' and 'exog' as names for the data. 'exog' is x variable and 'endog' is y variable (target)."
   ]
  },
  {
   "cell_type": "code",
   "execution_count": 22,
   "metadata": {},
   "outputs": [
    {
     "data": {
      "text/plain": [
       "0    60323.0\n",
       "1    61122.0\n",
       "2    60171.0\n",
       "3    61187.0\n",
       "4    63221.0\n",
       "Name: TOTEMP, dtype: float64"
      ]
     },
     "execution_count": 22,
     "metadata": {},
     "output_type": "execute_result"
    }
   ],
   "source": [
    "data.endog.head(5) # values for Total Employment"
   ]
  },
  {
   "cell_type": "code",
   "execution_count": 23,
   "metadata": {},
   "outputs": [
    {
     "data": {
      "text/html": [
       "<div>\n",
       "<style scoped>\n",
       "    .dataframe tbody tr th:only-of-type {\n",
       "        vertical-align: middle;\n",
       "    }\n",
       "\n",
       "    .dataframe tbody tr th {\n",
       "        vertical-align: top;\n",
       "    }\n",
       "\n",
       "    .dataframe thead th {\n",
       "        text-align: right;\n",
       "    }\n",
       "</style>\n",
       "<table border=\"1\" class=\"dataframe\">\n",
       "  <thead>\n",
       "    <tr style=\"text-align: right;\">\n",
       "      <th></th>\n",
       "      <th>GNPDEFL</th>\n",
       "      <th>GNP</th>\n",
       "      <th>UNEMP</th>\n",
       "      <th>ARMED</th>\n",
       "      <th>POP</th>\n",
       "      <th>YEAR</th>\n",
       "    </tr>\n",
       "  </thead>\n",
       "  <tbody>\n",
       "    <tr>\n",
       "      <th>count</th>\n",
       "      <td>16.000000</td>\n",
       "      <td>16.000000</td>\n",
       "      <td>16.000000</td>\n",
       "      <td>16.000000</td>\n",
       "      <td>16.000000</td>\n",
       "      <td>16.000000</td>\n",
       "    </tr>\n",
       "    <tr>\n",
       "      <th>mean</th>\n",
       "      <td>101.681250</td>\n",
       "      <td>387698.437500</td>\n",
       "      <td>3193.312500</td>\n",
       "      <td>2606.687500</td>\n",
       "      <td>117424.000000</td>\n",
       "      <td>1954.500000</td>\n",
       "    </tr>\n",
       "    <tr>\n",
       "      <th>std</th>\n",
       "      <td>10.791553</td>\n",
       "      <td>99394.937795</td>\n",
       "      <td>934.464247</td>\n",
       "      <td>695.919604</td>\n",
       "      <td>6956.101561</td>\n",
       "      <td>4.760952</td>\n",
       "    </tr>\n",
       "    <tr>\n",
       "      <th>min</th>\n",
       "      <td>83.000000</td>\n",
       "      <td>234289.000000</td>\n",
       "      <td>1870.000000</td>\n",
       "      <td>1456.000000</td>\n",
       "      <td>107608.000000</td>\n",
       "      <td>1947.000000</td>\n",
       "    </tr>\n",
       "    <tr>\n",
       "      <th>25%</th>\n",
       "      <td>94.525000</td>\n",
       "      <td>317881.000000</td>\n",
       "      <td>2348.250000</td>\n",
       "      <td>2298.000000</td>\n",
       "      <td>111788.500000</td>\n",
       "      <td>1950.750000</td>\n",
       "    </tr>\n",
       "    <tr>\n",
       "      <th>50%</th>\n",
       "      <td>100.600000</td>\n",
       "      <td>381427.000000</td>\n",
       "      <td>3143.500000</td>\n",
       "      <td>2717.500000</td>\n",
       "      <td>116803.500000</td>\n",
       "      <td>1954.500000</td>\n",
       "    </tr>\n",
       "    <tr>\n",
       "      <th>75%</th>\n",
       "      <td>111.250000</td>\n",
       "      <td>454085.500000</td>\n",
       "      <td>3842.500000</td>\n",
       "      <td>3060.750000</td>\n",
       "      <td>122304.000000</td>\n",
       "      <td>1958.250000</td>\n",
       "    </tr>\n",
       "    <tr>\n",
       "      <th>max</th>\n",
       "      <td>116.900000</td>\n",
       "      <td>554894.000000</td>\n",
       "      <td>4806.000000</td>\n",
       "      <td>3594.000000</td>\n",
       "      <td>130081.000000</td>\n",
       "      <td>1962.000000</td>\n",
       "    </tr>\n",
       "  </tbody>\n",
       "</table>\n",
       "</div>"
      ],
      "text/plain": [
       "          GNPDEFL            GNP        UNEMP        ARMED            POP  \\\n",
       "count   16.000000      16.000000    16.000000    16.000000      16.000000   \n",
       "mean   101.681250  387698.437500  3193.312500  2606.687500  117424.000000   \n",
       "std     10.791553   99394.937795   934.464247   695.919604    6956.101561   \n",
       "min     83.000000  234289.000000  1870.000000  1456.000000  107608.000000   \n",
       "25%     94.525000  317881.000000  2348.250000  2298.000000  111788.500000   \n",
       "50%    100.600000  381427.000000  3143.500000  2717.500000  116803.500000   \n",
       "75%    111.250000  454085.500000  3842.500000  3060.750000  122304.000000   \n",
       "max    116.900000  554894.000000  4806.000000  3594.000000  130081.000000   \n",
       "\n",
       "              YEAR  \n",
       "count    16.000000  \n",
       "mean   1954.500000  \n",
       "std       4.760952  \n",
       "min    1947.000000  \n",
       "25%    1950.750000  \n",
       "50%    1954.500000  \n",
       "75%    1958.250000  \n",
       "max    1962.000000  "
      ]
     },
     "execution_count": 23,
     "metadata": {},
     "output_type": "execute_result"
    }
   ],
   "source": [
    "data.exog.describe()"
   ]
  },
  {
   "cell_type": "markdown",
   "metadata": {},
   "source": [
    "We add a constant value to the dataset:"
   ]
  },
  {
   "cell_type": "code",
   "execution_count": 24,
   "metadata": {},
   "outputs": [
    {
     "data": {
      "text/html": [
       "<div>\n",
       "<style scoped>\n",
       "    .dataframe tbody tr th:only-of-type {\n",
       "        vertical-align: middle;\n",
       "    }\n",
       "\n",
       "    .dataframe tbody tr th {\n",
       "        vertical-align: top;\n",
       "    }\n",
       "\n",
       "    .dataframe thead th {\n",
       "        text-align: right;\n",
       "    }\n",
       "</style>\n",
       "<table border=\"1\" class=\"dataframe\">\n",
       "  <thead>\n",
       "    <tr style=\"text-align: right;\">\n",
       "      <th></th>\n",
       "      <th>const</th>\n",
       "      <th>GNPDEFL</th>\n",
       "      <th>GNP</th>\n",
       "      <th>UNEMP</th>\n",
       "      <th>ARMED</th>\n",
       "      <th>POP</th>\n",
       "      <th>YEAR</th>\n",
       "    </tr>\n",
       "  </thead>\n",
       "  <tbody>\n",
       "    <tr>\n",
       "      <th>0</th>\n",
       "      <td>1.0</td>\n",
       "      <td>83.0</td>\n",
       "      <td>234289.0</td>\n",
       "      <td>2356.0</td>\n",
       "      <td>1590.0</td>\n",
       "      <td>107608.0</td>\n",
       "      <td>1947.0</td>\n",
       "    </tr>\n",
       "    <tr>\n",
       "      <th>1</th>\n",
       "      <td>1.0</td>\n",
       "      <td>88.5</td>\n",
       "      <td>259426.0</td>\n",
       "      <td>2325.0</td>\n",
       "      <td>1456.0</td>\n",
       "      <td>108632.0</td>\n",
       "      <td>1948.0</td>\n",
       "    </tr>\n",
       "    <tr>\n",
       "      <th>2</th>\n",
       "      <td>1.0</td>\n",
       "      <td>88.2</td>\n",
       "      <td>258054.0</td>\n",
       "      <td>3682.0</td>\n",
       "      <td>1616.0</td>\n",
       "      <td>109773.0</td>\n",
       "      <td>1949.0</td>\n",
       "    </tr>\n",
       "    <tr>\n",
       "      <th>3</th>\n",
       "      <td>1.0</td>\n",
       "      <td>89.5</td>\n",
       "      <td>284599.0</td>\n",
       "      <td>3351.0</td>\n",
       "      <td>1650.0</td>\n",
       "      <td>110929.0</td>\n",
       "      <td>1950.0</td>\n",
       "    </tr>\n",
       "    <tr>\n",
       "      <th>4</th>\n",
       "      <td>1.0</td>\n",
       "      <td>96.2</td>\n",
       "      <td>328975.0</td>\n",
       "      <td>2099.0</td>\n",
       "      <td>3099.0</td>\n",
       "      <td>112075.0</td>\n",
       "      <td>1951.0</td>\n",
       "    </tr>\n",
       "  </tbody>\n",
       "</table>\n",
       "</div>"
      ],
      "text/plain": [
       "   const  GNPDEFL       GNP   UNEMP   ARMED       POP    YEAR\n",
       "0    1.0     83.0  234289.0  2356.0  1590.0  107608.0  1947.0\n",
       "1    1.0     88.5  259426.0  2325.0  1456.0  108632.0  1948.0\n",
       "2    1.0     88.2  258054.0  3682.0  1616.0  109773.0  1949.0\n",
       "3    1.0     89.5  284599.0  3351.0  1650.0  110929.0  1950.0\n",
       "4    1.0     96.2  328975.0  2099.0  3099.0  112075.0  1951.0"
      ]
     },
     "execution_count": 24,
     "metadata": {},
     "output_type": "execute_result"
    }
   ],
   "source": [
    "data.exog = sm.add_constant(data.exog)\n",
    "data.exog.head(5)"
   ]
  },
  {
   "cell_type": "markdown",
   "metadata": {},
   "source": [
    "We assume that the data is heteroskedastic."
   ]
  },
  {
   "cell_type": "code",
   "execution_count": 25,
   "metadata": {},
   "outputs": [
    {
     "name": "stdout",
     "output_type": "stream",
     "text": [
      "                            OLS Regression Results                            \n",
      "==============================================================================\n",
      "Dep. Variable:                 TOTEMP   R-squared:                       0.995\n",
      "Model:                            OLS   Adj. R-squared:                  0.992\n",
      "Method:                 Least Squares   F-statistic:                     330.3\n",
      "Date:                Thu, 18 Aug 2022   Prob (F-statistic):           4.98e-10\n",
      "Time:                        01:47:36   Log-Likelihood:                -109.62\n",
      "No. Observations:                  16   AIC:                             233.2\n",
      "Df Residuals:                       9   BIC:                             238.6\n",
      "Df Model:                           6                                         \n",
      "Covariance Type:            nonrobust                                         \n",
      "==============================================================================\n",
      "                 coef    std err          t      P>|t|      [0.025      0.975]\n",
      "------------------------------------------------------------------------------\n",
      "const      -3.482e+06    8.9e+05     -3.911      0.004    -5.5e+06   -1.47e+06\n",
      "GNPDEFL       15.0619     84.915      0.177      0.863    -177.029     207.153\n",
      "GNP           -0.0358      0.033     -1.070      0.313      -0.112       0.040\n",
      "UNEMP         -2.0202      0.488     -4.136      0.003      -3.125      -0.915\n",
      "ARMED         -1.0332      0.214     -4.822      0.001      -1.518      -0.549\n",
      "POP           -0.0511      0.226     -0.226      0.826      -0.563       0.460\n",
      "YEAR        1829.1515    455.478      4.016      0.003     798.788    2859.515\n",
      "==============================================================================\n",
      "Omnibus:                        0.749   Durbin-Watson:                   2.559\n",
      "Prob(Omnibus):                  0.688   Jarque-Bera (JB):                0.684\n",
      "Skew:                           0.420   Prob(JB):                        0.710\n",
      "Kurtosis:                       2.434   Cond. No.                     4.86e+09\n",
      "==============================================================================\n",
      "\n",
      "Notes:\n",
      "[1] Standard Errors assume that the covariance matrix of the errors is correctly specified.\n",
      "[2] The condition number is large, 4.86e+09. This might indicate that there are\n",
      "strong multicollinearity or other numerical problems.\n"
     ]
    },
    {
     "name": "stderr",
     "output_type": "stream",
     "text": [
      "c:\\Users\\MIO\\.conda\\envs\\envtf\\lib\\site-packages\\scipy\\stats\\stats.py:1541: UserWarning: kurtosistest only valid for n>=20 ... continuing anyway, n=16\n",
      "  warnings.warn(\"kurtosistest only valid for n>=20 ... continuing \"\n"
     ]
    }
   ],
   "source": [
    "model4 = sm.OLS(data.endog, data.exog).fit()\n",
    "print(model4.summary())"
   ]
  },
  {
   "cell_type": "markdown",
   "metadata": {},
   "source": [
    "We then get the residuals of the OLS fit:"
   ]
  },
  {
   "cell_type": "code",
   "execution_count": 26,
   "metadata": {},
   "outputs": [],
   "source": [
    "model4_resid = model4.resid"
   ]
  },
  {
   "cell_type": "code",
   "execution_count": 27,
   "metadata": {},
   "outputs": [
    {
     "data": {
      "image/png": "[encoded data removed]",
      "text/plain": [
       "<Figure size 936x216 with 1 Axes>"
      ]
     },
     "metadata": {
      "needs_background": "light"
     },
     "output_type": "display_data"
    }
   ],
   "source": [
    "# plotting the actual versus the predicted total employment\n",
    "plt.figure(figsize=(13,3))\n",
    "plt.scatter(data.endog.index, data.endog, marker='.', label='Actual Data')\n",
    "plt.plot(model4.predict(), color='r', label='OLS Predictions')\n",
    "plt.ylabel('Total Employment')\n",
    "plt.legend()\n",
    "plt.show()"
   ]
  },
  {
   "cell_type": "code",
   "execution_count": 28,
   "metadata": {},
   "outputs": [
    {
     "data": {
      "image/png": "[encoded data removed]",
      "text/plain": [
       "<Figure size 936x216 with 1 Axes>"
      ]
     },
     "metadata": {
      "needs_background": "light"
     },
     "output_type": "display_data"
    }
   ],
   "source": [
    "# plotting the residuals\n",
    "plt.figure(figsize=(13,3))\n",
    "plt.bar(data.endog.index, model4_resid)\n",
    "plt.ylabel('OLS Residuals')\n",
    "plt.show()"
   ]
  },
  {
   "cell_type": "markdown",
   "metadata": {},
   "source": [
    "We assume that the residuals follow an autoregressive process of order one (AR(p=1)). So, we fit an OLS on the 1-lagged residuals: "
   ]
  },
  {
   "cell_type": "code",
   "execution_count": 29,
   "metadata": {},
   "outputs": [
    {
     "name": "stdout",
     "output_type": "stream",
     "text": [
      "-1.4390229839705615\n",
      "0.17378444788898745\n"
     ]
    }
   ],
   "source": [
    "model4_resid_fit = sm.OLS(np.asarray(model4_resid)[1:], sm.add_constant(np.asarray(model4_resid)[:-1])).fit()\n",
    "print(model4_resid_fit.tvalues[1])\n",
    "print(model4_resid_fit.pvalues[1])"
   ]
  },
  {
   "cell_type": "markdown",
   "metadata": {},
   "source": [
    "However, the assumption about AR(1)-followed residuals is not strong, we obtain the rho. rho is a consistent estimator of the correlation of the residuals from an OLS fit of the longley data. It is assumed that this is the true rho of the AR process data."
   ]
  },
  {
   "cell_type": "code",
   "execution_count": 30,
   "metadata": {},
   "outputs": [
    {
     "data": {
      "text/plain": [
       "-0.3634294908762582"
      ]
     },
     "execution_count": 30,
     "metadata": {},
     "output_type": "execute_result"
    }
   ],
   "source": [
    "rho = model4_resid_fit.params[1] # coeff for the lagged value\n",
    "rho"
   ]
  },
  {
   "cell_type": "markdown",
   "metadata": {},
   "source": [
    "As we know, an AR(1) process means that near-neighbors have a stronger relation so we can give this structure by using a toeplitz matrix.\n",
    "This is a matrix in which each descending diagonal from left to right is constant. Toeplitz matrices are used to model systems that posses shift invariant properties. The property of shift invariance is evident from the matrix structure itself. \n",
    "\n",
    "https://www.gaussianwaves.com/2014/02/polynomials-convolution-and-toeplitz-matrices-connecting-the-dots/"
   ]
  },
  {
   "cell_type": "code",
   "execution_count": 31,
   "metadata": {},
   "outputs": [
    {
     "data": {
      "text/plain": [
       "array([[0, 1, 2, 3, 4],\n",
       "       [1, 0, 1, 2, 3],\n",
       "       [2, 1, 0, 1, 2],\n",
       "       [3, 2, 1, 0, 1],\n",
       "       [4, 3, 2, 1, 0]])"
      ]
     },
     "execution_count": 31,
     "metadata": {},
     "output_type": "execute_result"
    }
   ],
   "source": [
    "from scipy.linalg import toeplitz\n",
    "\n",
    "toeplitz(range(5))"
   ]
  },
  {
   "cell_type": "code",
   "execution_count": 32,
   "metadata": {},
   "outputs": [
    {
     "data": {
      "text/plain": [
       "array([[ 0,  1,  2,  3,  4,  5,  6,  7,  8,  9, 10, 11, 12, 13, 14, 15],\n",
       "       [ 1,  0,  1,  2,  3,  4,  5,  6,  7,  8,  9, 10, 11, 12, 13, 14],\n",
       "       [ 2,  1,  0,  1,  2,  3,  4,  5,  6,  7,  8,  9, 10, 11, 12, 13],\n",
       "       [ 3,  2,  1,  0,  1,  2,  3,  4,  5,  6,  7,  8,  9, 10, 11, 12],\n",
       "       [ 4,  3,  2,  1,  0,  1,  2,  3,  4,  5,  6,  7,  8,  9, 10, 11],\n",
       "       [ 5,  4,  3,  2,  1,  0,  1,  2,  3,  4,  5,  6,  7,  8,  9, 10],\n",
       "       [ 6,  5,  4,  3,  2,  1,  0,  1,  2,  3,  4,  5,  6,  7,  8,  9],\n",
       "       [ 7,  6,  5,  4,  3,  2,  1,  0,  1,  2,  3,  4,  5,  6,  7,  8],\n",
       "       [ 8,  7,  6,  5,  4,  3,  2,  1,  0,  1,  2,  3,  4,  5,  6,  7],\n",
       "       [ 9,  8,  7,  6,  5,  4,  3,  2,  1,  0,  1,  2,  3,  4,  5,  6],\n",
       "       [10,  9,  8,  7,  6,  5,  4,  3,  2,  1,  0,  1,  2,  3,  4,  5],\n",
       "       [11, 10,  9,  8,  7,  6,  5,  4,  3,  2,  1,  0,  1,  2,  3,  4],\n",
       "       [12, 11, 10,  9,  8,  7,  6,  5,  4,  3,  2,  1,  0,  1,  2,  3],\n",
       "       [13, 12, 11, 10,  9,  8,  7,  6,  5,  4,  3,  2,  1,  0,  1,  2],\n",
       "       [14, 13, 12, 11, 10,  9,  8,  7,  6,  5,  4,  3,  2,  1,  0,  1],\n",
       "       [15, 14, 13, 12, 11, 10,  9,  8,  7,  6,  5,  4,  3,  2,  1,  0]])"
      ]
     },
     "execution_count": 32,
     "metadata": {},
     "output_type": "execute_result"
    }
   ],
   "source": [
    "order = toeplitz(range(len(model4_resid)))\n",
    "order"
   ]
  },
  {
   "cell_type": "code",
   "execution_count": 33,
   "metadata": {},
   "outputs": [
    {
     "name": "stdout",
     "output_type": "stream",
     "text": [
      "                            GLS Regression Results                            \n",
      "==============================================================================\n",
      "Dep. Variable:                 TOTEMP   R-squared:                       0.998\n",
      "Model:                            GLS   Adj. R-squared:                  0.997\n",
      "Method:                 Least Squares   F-statistic:                     724.0\n",
      "Date:                Thu, 18 Aug 2022   Prob (F-statistic):           1.48e-11\n",
      "Time:                        01:47:37   Log-Likelihood:                -107.50\n",
      "No. Observations:                  16   AIC:                             229.0\n",
      "Df Residuals:                       9   BIC:                             234.4\n",
      "Df Model:                           6                                         \n",
      "Covariance Type:            nonrobust                                         \n",
      "==============================================================================\n",
      "                 coef    std err          t      P>|t|      [0.025      0.975]\n",
      "------------------------------------------------------------------------------\n",
      "const      -3.798e+06   6.71e+05     -5.663      0.000   -5.32e+06   -2.28e+06\n",
      "GNPDEFL      -12.7656     69.431     -0.184      0.858    -169.829     144.298\n",
      "GNP           -0.0380      0.026     -1.448      0.182      -0.097       0.021\n",
      "UNEMP         -2.1869      0.382     -5.719      0.000      -3.052      -1.322\n",
      "ARMED         -1.1518      0.165     -6.970      0.000      -1.526      -0.778\n",
      "POP           -0.0681      0.176     -0.386      0.709      -0.467       0.331\n",
      "YEAR        1993.9529    342.635      5.819      0.000    1218.860    2769.046\n",
      "==============================================================================\n",
      "Omnibus:                        1.365   Durbin-Watson:                   2.534\n",
      "Prob(Omnibus):                  0.505   Jarque-Bera (JB):                0.885\n",
      "Skew:                           0.209   Prob(JB):                        0.642\n",
      "Kurtosis:                       1.926   Cond. No.                     5.61e+09\n",
      "==============================================================================\n",
      "\n",
      "Notes:\n",
      "[1] Standard Errors assume that the covariance matrix of the errors is correctly specified.\n",
      "[2] The condition number is large, 5.61e+09. This might indicate that there are\n",
      "strong multicollinearity or other numerical problems.\n"
     ]
    },
    {
     "name": "stderr",
     "output_type": "stream",
     "text": [
      "c:\\Users\\MIO\\.conda\\envs\\envtf\\lib\\site-packages\\scipy\\stats\\stats.py:1541: UserWarning: kurtosistest only valid for n>=20 ... continuing anyway, n=16\n",
      "  warnings.warn(\"kurtosistest only valid for n>=20 ... continuing \"\n"
     ]
    }
   ],
   "source": [
    "sigma = rho ** order  # The array or scalar sigma is the weighting matrix of the covariance.\n",
    "model5 = sm.GLS(data.endog, data.exog, sigma=sigma).fit()\n",
    "print(model5.summary())"
   ]
  },
  {
   "cell_type": "markdown",
   "metadata": {},
   "source": [
    "As can be seen, the coefficients are slightly different from the OLS results.\n",
    "\n",
    "We obtain the residuals:"
   ]
  },
  {
   "cell_type": "code",
   "execution_count": 34,
   "metadata": {},
   "outputs": [],
   "source": [
    "model5_resid = model5.resid"
   ]
  },
  {
   "cell_type": "markdown",
   "metadata": {},
   "source": [
    "We compare the absolute values of the residuals in both cases of OLS and GLS:"
   ]
  },
  {
   "cell_type": "code",
   "execution_count": 35,
   "metadata": {},
   "outputs": [
    {
     "data": {
      "image/png": "[encoded data removed]",
      "text/plain": [
       "<Figure size 936x216 with 1 Axes>"
      ]
     },
     "metadata": {
      "needs_background": "light"
     },
     "output_type": "display_data"
    }
   ],
   "source": [
    "# plotting the residuals\n",
    "plt.figure(figsize=(13,3))\n",
    "plt.bar(data.endog.index-0.1, abs(model4_resid), width=0.2, label='OLS')\n",
    "plt.bar(data.endog.index+0.1, abs(model5_resid), width=0.2, label='GLS')\n",
    "plt.ylabel('Absolute Residuals')\n",
    "plt.legend()\n",
    "plt.show()"
   ]
  },
  {
   "cell_type": "markdown",
   "metadata": {},
   "source": [
    "Since our assumption about AR(1) for residuals is probably not true, the exact rho is not known. In case that we are sure about the autocorrolation of the residuals, GLS can be very helpful."
   ]
  },
  {
   "cell_type": "markdown",
   "metadata": {},
   "source": [
    "We can also use the GLSAR model with lag of 1 to obtain the similar results of the above GLS. However, the results might be slightly different due to the numerical differences in the algorithms."
   ]
  },
  {
   "cell_type": "code",
   "execution_count": 36,
   "metadata": {},
   "outputs": [
    {
     "name": "stdout",
     "output_type": "stream",
     "text": [
      "                           GLSAR Regression Results                           \n",
      "==============================================================================\n",
      "Dep. Variable:                 TOTEMP   R-squared:                       0.996\n",
      "Model:                          GLSAR   Adj. R-squared:                  0.992\n",
      "Method:                 Least Squares   F-statistic:                     295.2\n",
      "Date:                Thu, 18 Aug 2022   Prob (F-statistic):           6.09e-09\n",
      "Time:                        01:47:38   Log-Likelihood:                -102.04\n",
      "No. Observations:                  15   AIC:                             218.1\n",
      "Df Residuals:                       8   BIC:                             223.0\n",
      "Df Model:                           6                                         \n",
      "Covariance Type:            nonrobust                                         \n",
      "==============================================================================\n",
      "                 coef    std err          t      P>|t|      [0.025      0.975]\n",
      "------------------------------------------------------------------------------\n",
      "const      -3.468e+06   8.72e+05     -3.979      0.004   -5.48e+06   -1.46e+06\n",
      "GNPDEFL       34.5568     84.734      0.408      0.694    -160.840     229.953\n",
      "GNP           -0.0343      0.033     -1.047      0.326      -0.110       0.041\n",
      "UNEMP         -1.9621      0.481     -4.083      0.004      -3.070      -0.854\n",
      "ARMED         -1.0020      0.211     -4.740      0.001      -1.489      -0.515\n",
      "POP           -0.0978      0.225     -0.435      0.675      -0.616       0.421\n",
      "YEAR        1823.1829    445.829      4.089      0.003     795.100    2851.266\n",
      "==============================================================================\n",
      "Omnibus:                        1.960   Durbin-Watson:                   2.554\n",
      "Prob(Omnibus):                  0.375   Jarque-Bera (JB):                1.423\n",
      "Skew:                           0.713   Prob(JB):                        0.491\n",
      "Kurtosis:                       2.508   Cond. No.                     4.80e+09\n",
      "==============================================================================\n",
      "\n",
      "Notes:\n",
      "[1] Standard Errors assume that the covariance matrix of the errors is correctly specified.\n",
      "[2] The condition number is large, 4.8e+09. This might indicate that there are\n",
      "strong multicollinearity or other numerical problems.\n"
     ]
    },
    {
     "name": "stderr",
     "output_type": "stream",
     "text": [
      "c:\\Users\\MIO\\.conda\\envs\\envtf\\lib\\site-packages\\scipy\\stats\\stats.py:1541: UserWarning: kurtosistest only valid for n>=20 ... continuing anyway, n=15\n",
      "  warnings.warn(\"kurtosistest only valid for n>=20 ... continuing \"\n"
     ]
    }
   ],
   "source": [
    "model6 = sm.GLSAR(data.endog, data.exog, 1).fit()\n",
    "print(model6.summary())"
   ]
  },
  {
   "cell_type": "code",
   "execution_count": 37,
   "metadata": {},
   "outputs": [
    {
     "data": {
      "image/png": "[encoded data removed]",
      "text/plain": [
       "<Figure size 936x216 with 1 Axes>"
      ]
     },
     "metadata": {
      "needs_background": "light"
     },
     "output_type": "display_data"
    }
   ],
   "source": [
    "# plotting the residuals\n",
    "plt.figure(figsize=(13,3))\n",
    "plt.bar(data.endog.index-0.1, abs(model5_resid), width=0.2, label='GLS')\n",
    "plt.bar(data.endog.index+0.1, abs(model6.resid), width=0.2, label='GLSAR')\n",
    "plt.ylabel('Absolute Residuals')\n",
    "plt.legend()\n",
    "plt.show()"
   ]
  },
  {
   "cell_type": "markdown",
   "metadata": {},
   "source": [
    "---------------------\n",
    "#### END"
   ]
  },
  {
   "cell_type": "code",
   "execution_count": null,
   "metadata": {},
   "outputs": [],
   "source": []
  }
 ],
 "metadata": {
  "kernelspec": {
   "display_name": "Python 3.9.2 ('envtf')",
   "language": "python",
   "name": "python3"
  },
  "language_info": {
   "codemirror_mode": {
    "name": "ipython",
    "version": 3
   },
   "file_extension": ".py",
   "mimetype": "text/x-python",
   "name": "python",
   "nbconvert_exporter": "python",
   "pygments_lexer": "ipython3",
   "version": "3.9.2"
  },
  "orig_nbformat": 4,
  "vscode": {
   "interpreter": {
    "hash": "9ddf6f5be8f1192cf70682edcaa6aaad42b4d7dc59537661b95caff2b632d806"
   }
  }
 },
 "nbformat": 4,
 "nbformat_minor": 2
}
